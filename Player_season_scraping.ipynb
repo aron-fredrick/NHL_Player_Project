{
 "cells": [
  {
   "cell_type": "markdown",
   "metadata": {},
   "source": [
    "Script to generate a database of all NHL players season-by-season data from 1980 to today. Also includes code to scrape NHL average team data for each relevant year."
   ]
  },
  {
   "cell_type": "code",
   "execution_count": 2,
   "metadata": {},
   "outputs": [],
   "source": [
    "from bs4 import BeautifulSoup, Comment\n",
    "import pandas as pd\n",
    "import requests\n",
    "import string\n",
    "from time import sleep"
   ]
  },
  {
   "cell_type": "code",
   "execution_count": 7,
   "metadata": {},
   "outputs": [
    {
     "name": "stdout",
     "output_type": "stream",
     "text": [
      "011/225 of the letter A completed, currently on: Thommy Abrahamsson                           "
     ]
    },
    {
     "name": "stderr",
     "output_type": "stream",
     "text": [
      "C:\\Users\\aronf\\Anaconda3\\lib\\site-packages\\pandas\\core\\frame.py:3997: SettingWithCopyWarning: \n",
      "A value is trying to be set on a copy of a slice from a DataFrame\n",
      "\n",
      "See the caveats in the documentation: https://pandas.pydata.org/pandas-docs/stable/user_guide/indexing.html#returning-a-view-versus-a-copy\n",
      "  errors=errors,\n",
      "C:\\Users\\aronf\\Anaconda3\\lib\\site-packages\\ipykernel_launcher.py:35: SettingWithCopyWarning: \n",
      "A value is trying to be set on a copy of a slice from a DataFrame.\n",
      "Try using .loc[row_indexer,col_indexer] = value instead\n",
      "\n",
      "See the caveats in the documentation: https://pandas.pydata.org/pandas-docs/stable/user_guide/indexing.html#returning-a-view-versus-a-copy\n"
     ]
    },
    {
     "name": "stdout",
     "output_type": "stream",
     "text": [
      "Completed! the letter Z completed, currently on: Andrei Zyuzin                                           \n"
     ]
    }
   ],
   "source": [
    "# Get player season data\n",
    "df = pd.DataFrame()\n",
    "site = 'https://www.hockey-reference.com'\n",
    "prev_player=''\n",
    "for letter in string.ascii_lowercase:\n",
    "    count = 0\n",
    "    url = requests.get(site+'/players/'+letter+'/').text\n",
    "    soup = BeautifulSoup(url,'lxml')\n",
    "    player_list = soup.find_all('p', class_='nhl')\n",
    "\n",
    "    for count, player in enumerate(player_list):\n",
    "        sleep(0.1)\n",
    "        # Skip goalies and anybody from before 1980\n",
    "        if int(player.text.split('(')[-1][0:4])<1980 or player.text[-2] == 'G':\n",
    "            continue\n",
    "        # If players have the same name, differentiate them\n",
    "        if player.a.text == prev_player:\n",
    "            if same_name_flag == True:\n",
    "                same_name_count += 1\n",
    "            same_name_flag = True\n",
    "        else:\n",
    "            same_name_flag = False\n",
    "            same_name_count = 0\n",
    "        player_name = player.a.text+same_name_flag*str(same_name_count)\n",
    "        prev_player = player.a.text\n",
    "        \n",
    "        print(f'\\r{count:03d}/{len(player_list):03d} of the letter {letter.upper()} completed, currently on: {player_name}                           ',end='')\n",
    "        \n",
    "        # Access player webpage and get season data table\n",
    "        player_url = site+player.a['href']\n",
    "        player_url = requests.get(player_url).text\n",
    "        try:\n",
    "            df_list = pd.read_html(player_url, skiprows = 1, header = 0)\n",
    "        except:\n",
    "            continue\n",
    "        tmp_df = df_list[0]\n",
    "        # Only grab NHL seasons\n",
    "        tmp_df = tmp_df[tmp_df.Lg == 'NHL']\n",
    "        tmp_df.drop(columns = ['Lg','Awards'], inplace=True)\n",
    "        if tmp_df['Age'].isnull().any():\n",
    "            tmp_df.drop(tmp_df.loc[tmp_df['Age'].isnull()].index, inplace=True)\n",
    "        tmp_df['Player'] = player_name\n",
    "        if df.empty:\n",
    "            df = tmp_df\n",
    "        else:\n",
    "            df = df.append(tmp_df, ignore_index=True)\n",
    "print('\\rCompleted!                                                              ',end='')"
   ]
  },
  {
   "cell_type": "code",
   "execution_count": 14,
   "metadata": {},
   "outputs": [],
   "source": [
    "df.to_csv('NHL_player_season_log_all.csv',index=False)"
   ]
  },
  {
   "cell_type": "code",
   "execution_count": 170,
   "metadata": {},
   "outputs": [
    {
     "name": "stdout",
     "output_type": "stream",
     "text": [
      "2020"
     ]
    }
   ],
   "source": [
    "# Get league average season data\n",
    "site = 'https://www.hockey-reference.com'\n",
    "stat_list = ['games','total_goals_per_game','goals_pp','chances_pp','shots','shot_pct']\n",
    "stat_dict = {\n",
    "    'year': [],\n",
    "    'games': [],\n",
    "    'total_goals_per_game': [],\n",
    "    'goals_pp': [],\n",
    "    'chances_pp': [],\n",
    "    'shots': [],\n",
    "    'shot_pct': []\n",
    "}\n",
    "\n",
    "for year in range(1977,2021):\n",
    "    if year == 2005:\n",
    "        continue # Stupid lockout\n",
    "    sleep(0.1)\n",
    "    print(f'\\r{year}',end='')\n",
    "    year_url = site+'/leagues/NHL_'+str(year)+'.html'\n",
    "    url = requests.get(year_url).text\n",
    "    \n",
    "    soup = BeautifulSoup(url,'lxml')\n",
    "    stat_dict['year'].append(f'{year-1}-{str(year)[-2:]}') \n",
    "    # Tables are in HTML comments, must use workaround to access\n",
    "    for comment in soup.find_all(text=lambda text: isinstance(text, Comment)):\n",
    "        if comment.find(\"<table \") > 0:\n",
    "            comment_soup = BeautifulSoup(comment, 'html.parser')\n",
    "            table = comment_soup.find(\"table\")\n",
    "            table2=table.find('tfoot')\n",
    "            for stat in stat_list:\n",
    "                stat_dict[stat].append(table2.find('td',attrs={'data-stat':stat}).text)\n",
    "            break\n",
    "season_df = pd.DataFrame(stat_dict)"
   ]
  },
  {
   "cell_type": "code",
   "execution_count": 171,
   "metadata": {},
   "outputs": [],
   "source": [
    "season_df.to_csv('League_Average_Data.csv',index=False)"
   ]
  }
 ],
 "metadata": {
  "kernelspec": {
   "display_name": "Python 3",
   "language": "python",
   "name": "python3"
  },
  "language_info": {
   "codemirror_mode": {
    "name": "ipython",
    "version": 3
   },
   "file_extension": ".py",
   "mimetype": "text/x-python",
   "name": "python",
   "nbconvert_exporter": "python",
   "pygments_lexer": "ipython3",
   "version": "3.7.7"
  }
 },
 "nbformat": 4,
 "nbformat_minor": 4
}
