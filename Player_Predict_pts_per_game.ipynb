{
 "cells": [
  {
   "cell_type": "code",
   "execution_count": 1,
   "metadata": {},
   "outputs": [],
   "source": [
    "import xgboost as xgb\n",
    "from sklearn.metrics import mean_squared_error\n",
    "import pandas as pd\n",
    "import numpy as np\n",
    "import matplotlib.pyplot as plt\n",
    "from sklearn.model_selection import train_test_split\n",
    "import shap\n",
    "from joblib import dump\n",
    "from joblib import load\n",
    "import seaborn as sns"
   ]
  },
  {
   "cell_type": "code",
   "execution_count": 28,
   "metadata": {},
   "outputs": [],
   "source": [
    "player_df = pd.read_csv('NHL_player_season_log_all.csv')"
   ]
  },
  {
   "cell_type": "code",
   "execution_count": 29,
   "metadata": {},
   "outputs": [],
   "source": [
    "for player in player_df[player_df.Tm=='TOT'].Player.unique():\n",
    "    season_list = player_df[(player_df.Player == player) & (player_df.Tm=='TOT')].Season.unique()\n",
    "    \n",
    "    for season in season_list:\n",
    "        index = player_df.index[(player_df.Player == player) & (player_df.Tm !='TOT') & (player_df.Season == season)].tolist()\n",
    "        player_df.drop(index=index,inplace=True)"
   ]
  },
  {
   "cell_type": "code",
   "execution_count": 3,
   "metadata": {},
   "outputs": [],
   "source": [
    "xg_reg1 = load('xgb_model1.dat') \n",
    "xg_reg2 = load('xgb_model2.dat')\n",
    "xg_reg3 = load('xgb_model3.dat')"
   ]
  },
  {
   "cell_type": "code",
   "execution_count": 4,
   "metadata": {},
   "outputs": [],
   "source": [
    "\n",
    "data1 = pd.read_csv('player_prediction_data_no_labels_1_year_back.csv')\n",
    "data2 = pd.read_csv('player_prediction_data_no_labels_2_years_back.csv')\n",
    "data3 = pd.read_csv('player_prediction_data_no_labels_3_years_back.csv')"
   ]
  },
  {
   "cell_type": "code",
   "execution_count": 5,
   "metadata": {},
   "outputs": [],
   "source": [
    "dmatrix1 = xgb.DMatrix(data = data1[['Age', 'Player_Season_Num', 'prev_GP', 'prev_G',\n",
    "       'prev_A', 'prev_PTS', 'prev_S', 'career_GP', 'career_G',\n",
    "       'career_A', 'career_PTS', 'career_S', 'games', 'total_goals_per_game',\n",
    "       'goals_pp', 'chances_pp', 'shots', 'shot_pct']])\n",
    "dmatrix2 = xgb.DMatrix(data=data2[['Age', 'Player_Season_Num', 'prev_GP', 'prev_G',\n",
    "       'prev_A', 'prev_PTS', 'prev_S', 'career_GP', 'career_G',\n",
    "       'career_A', 'career_PTS', 'career_S', 'games', 'total_goals_per_game',\n",
    "       'goals_pp', 'chances_pp', 'shots', 'shot_pct']])\n",
    "dmatrix3 = xgb.DMatrix(data=data3[['Age', 'Player_Season_Num', 'prev_GP', 'prev_G',\n",
    "       'prev_A', 'prev_PTS', 'prev_S', 'career_GP', 'career_G',\n",
    "       'career_A', 'career_PTS', 'career_S', 'games', 'total_goals_per_game',\n",
    "       'goals_pp', 'chances_pp', 'shots', 'shot_pct']])"
   ]
  },
  {
   "cell_type": "code",
   "execution_count": 6,
   "metadata": {},
   "outputs": [],
   "source": [
    "y_pred1 = xg_reg1.predict(dmatrix1)\n",
    "y_pred2 = xg_reg2.predict(dmatrix2)\n",
    "y_pred3 = xg_reg3.predict(dmatrix3)"
   ]
  },
  {
   "cell_type": "code",
   "execution_count": 7,
   "metadata": {},
   "outputs": [],
   "source": [
    "data1['pts_per_game_predict'] = y_pred1\n",
    "data2['pts_per_game_predict'] = y_pred2\n",
    "data3['pts_per_game_predict'] = y_pred3"
   ]
  },
  {
   "cell_type": "code",
   "execution_count": 8,
   "metadata": {},
   "outputs": [],
   "source": [
    "data1.to_csv('Player_prediction_1_year.csv')"
   ]
  },
  {
   "cell_type": "code",
   "execution_count": 9,
   "metadata": {},
   "outputs": [],
   "source": [
    "data2.to_csv('Player_prediction_2_year.csv')\n",
    "data3.to_csv('Player_prediction_3_year.csv')"
   ]
  },
  {
   "cell_type": "code",
   "execution_count": 10,
   "metadata": {},
   "outputs": [
    {
     "data": {
      "text/plain": [
       "Index(['Unnamed: 0', 'Player', 'Season', 'Age', 'Player_Season_Num', 'PTS',\n",
       "       'GP', 'prev_GP', 'prev_G', 'prev_A', 'prev_PTS', 'prev_S', 'prev_TOI',\n",
       "       'career_GP', 'career_G', 'career_A', 'career_PTS', 'career_S', 'games',\n",
       "       'total_goals_per_game', 'goals_pp', 'chances_pp', 'shots', 'shot_pct',\n",
       "       'pts_per_game_predict'],\n",
       "      dtype='object')"
      ]
     },
     "execution_count": 10,
     "metadata": {},
     "output_type": "execute_result"
    }
   ],
   "source": [
    "data1.columns"
   ]
  },
  {
   "cell_type": "code",
   "execution_count": 33,
   "metadata": {},
   "outputs": [
    {
     "data": {
      "text/plain": [
       "Index(['Season', 'Age', 'GP', 'PTS', 'Player'], dtype='object')"
      ]
     },
     "execution_count": 33,
     "metadata": {},
     "output_type": "execute_result"
    }
   ],
   "source": [
    "player_df = player_df[['Season', 'Age','GP','PTS','Player']]\n",
    "player_df.columns"
   ]
  },
  {
   "cell_type": "code",
   "execution_count": 94,
   "metadata": {},
   "outputs": [],
   "source": [
    "d1 = data1[['Player', 'Age','Season', 'pts_per_game_predict']]\n",
    "d2 = data2[['Player', 'Age','Season', 'pts_per_game_predict']]\n",
    "d3 = data3[['Player', 'Age','Season', 'pts_per_game_predict']]"
   ]
  },
  {
   "cell_type": "code",
   "execution_count": 30,
   "metadata": {},
   "outputs": [
    {
     "data": {
      "text/plain": [
       "(29242, 29)"
      ]
     },
     "execution_count": 30,
     "metadata": {},
     "output_type": "execute_result"
    }
   ],
   "source": [
    "player_df.shape"
   ]
  },
  {
   "cell_type": "code",
   "execution_count": 44,
   "metadata": {},
   "outputs": [
    {
     "data": {
      "text/plain": [
       "(29242, 4)"
      ]
     },
     "execution_count": 44,
     "metadata": {},
     "output_type": "execute_result"
    }
   ],
   "source": [
    "d1.shape"
   ]
  },
  {
   "cell_type": "code",
   "execution_count": 34,
   "metadata": {},
   "outputs": [
    {
     "data": {
      "text/plain": [
       "4904"
      ]
     },
     "execution_count": 34,
     "metadata": {},
     "output_type": "execute_result"
    }
   ],
   "source": [
    "player_df.Player.nunique()"
   ]
  },
  {
   "cell_type": "code",
   "execution_count": 32,
   "metadata": {},
   "outputs": [],
   "source": [
    "for player in player_df.Player.unique():\n",
    "    if len(player_df[player_df.Player == player]) != len(d1[d1.Player == player]):\n",
    "        print(player)"
   ]
  },
  {
   "cell_type": "code",
   "execution_count": 100,
   "metadata": {},
   "outputs": [],
   "source": [
    "#d1.loc[d1.Season == '2004-05','Season'] = '2005-06'\n",
    "#d2.loc[d2.Season == '2004-05','Season'] = '2005-06'\n",
    "#d3.loc[d3.Season == '2004-05','Season'] = '2005-06'\n",
    "d1 = d1[d1.Season != '2004-05']\n",
    "d2 = d2[d2.Season != '2004-05']\n",
    "d3 = d3[d3.Season != '2004-05']"
   ]
  },
  {
   "cell_type": "code",
   "execution_count": 109,
   "metadata": {},
   "outputs": [
    {
     "data": {
      "text/html": [
       "['1980-81', '1981-82', '1982-83', '1983-84', '1984-85', '1985-86', '1986-87', '1987-88', '1988-89', '1989-90', '1990-91', '1991-92', '1992-93', '1993-94', '1994-95', '1995-96', '1996-97', '1997-98', '1998-99', '1999-00', '2000-01', '2001-02', '2002-03', '2003-04', '2006-07', '2007-08', '2008-09', '2009-10', '2010-11', '2011-12', '2012-13', '2013-14', '2014-15', '2015-16', '2016-17', '2017-18', '2018-19', '2019-20', '2020-21']"
      ],
      "text/plain": [
       "['1980-81',\n",
       " '1981-82',\n",
       " '1982-83',\n",
       " '1983-84',\n",
       " '1984-85',\n",
       " '1985-86',\n",
       " '1986-87',\n",
       " '1987-88',\n",
       " '1988-89',\n",
       " '1989-90',\n",
       " '1990-91',\n",
       " '1991-92',\n",
       " '1992-93',\n",
       " '1993-94',\n",
       " '1994-95',\n",
       " '1995-96',\n",
       " '1996-97',\n",
       " '1997-98',\n",
       " '1998-99',\n",
       " '1999-00',\n",
       " '2000-01',\n",
       " '2001-02',\n",
       " '2002-03',\n",
       " '2003-04',\n",
       " '2006-07',\n",
       " '2007-08',\n",
       " '2008-09',\n",
       " '2009-10',\n",
       " '2010-11',\n",
       " '2011-12',\n",
       " '2012-13',\n",
       " '2013-14',\n",
       " '2014-15',\n",
       " '2015-16',\n",
       " '2016-17',\n",
       " '2017-18',\n",
       " '2018-19',\n",
       " '2019-20',\n",
       " '2020-21']"
      ]
     },
     "execution_count": 109,
     "metadata": {},
     "output_type": "execute_result"
    }
   ],
   "source": [
    "sorted(d1.Season.unique())"
   ]
  },
  {
   "cell_type": "code",
   "execution_count": 101,
   "metadata": {},
   "outputs": [],
   "source": [
    "df = pd.merge(player_df, d1, on=['Player','Season'], how='outer')\n",
    "df['Age'] = df.apply(lambda x: x.Age_x if not x.isna().Age_x else x.Age_y, axis = 1)\n",
    "df.drop(columns=['Age_x', 'Age_y'], inplace=True)"
   ]
  },
  {
   "cell_type": "code",
   "execution_count": 102,
   "metadata": {},
   "outputs": [],
   "source": [
    "df = df.merge(d2, on=['Player','Season'], how='outer')\n",
    "df['Age'] = df.apply(lambda x: x.Age_x if not x.isna().Age_x else x.Age_y, axis = 1)\n",
    "df.drop(columns=['Age_x', 'Age_y'], inplace=True)"
   ]
  },
  {
   "cell_type": "code",
   "execution_count": 103,
   "metadata": {},
   "outputs": [],
   "source": [
    "df = df.merge(d3, on=['Player','Season'], how='outer')\n",
    "df['Age'] = df.apply(lambda x: x.Age_x if not x.isna().Age_x else x.Age_y, axis = 1)\n",
    "df.drop(columns=['Age_x', 'Age_y'], inplace=True)"
   ]
  },
  {
   "cell_type": "code",
   "execution_count": 104,
   "metadata": {},
   "outputs": [],
   "source": [
    "df['PTS_Predict_1'] = df.apply(lambda x: x.GP*x.pts_per_game_predict_x if not x.isna().GP else 82*x.pts_per_game_predict_x, axis = 1)\n",
    "df['PTS_Predict_2'] = df.apply(lambda x: x.GP*x.pts_per_game_predict_y if not x.isna().GP else 82*x.pts_per_game_predict_y, axis = 1)\n",
    "df['PTS_Predict_3'] = df.apply(lambda x: x.GP*x.pts_per_game_predict if not x.isna().GP else 82*x.pts_per_game_predict, axis = 1)"
   ]
  },
  {
   "cell_type": "code",
   "execution_count": 105,
   "metadata": {},
   "outputs": [],
   "source": [
    "df.rename(columns={\"pts_per_game_predict_x\": \"pts_per_game_predict_1\", \"pts_per_game_predict_y\": \"pts_per_game_predict_2\",\"pts_per_game_predict\": \"pts_per_game_predict_3\"},inplace=True)\n",
    "df.PTS_Predict_1=df.PTS_Predict_1.apply(np.round)\n",
    "df.PTS_Predict_2=df.PTS_Predict_2.apply(np.round)\n",
    "df.PTS_Predict_3=df.PTS_Predict_3.apply(np.round)"
   ]
  },
  {
   "cell_type": "code",
   "execution_count": 81,
   "metadata": {},
   "outputs": [
    {
     "data": {
      "text/html": [
       "<div>\n",
       "<style scoped>\n",
       "    .dataframe tbody tr th:only-of-type {\n",
       "        vertical-align: middle;\n",
       "    }\n",
       "\n",
       "    .dataframe tbody tr th {\n",
       "        vertical-align: top;\n",
       "    }\n",
       "\n",
       "    .dataframe thead th {\n",
       "        text-align: right;\n",
       "    }\n",
       "</style>\n",
       "<table border=\"1\" class=\"dataframe\">\n",
       "  <thead>\n",
       "    <tr style=\"text-align: right;\">\n",
       "      <th></th>\n",
       "      <th>Season</th>\n",
       "      <th>GP</th>\n",
       "      <th>PTS</th>\n",
       "      <th>Player</th>\n",
       "      <th>pts_per_game_predict_1</th>\n",
       "      <th>pts_per_game_predict_2</th>\n",
       "      <th>pts_per_game_predict_3</th>\n",
       "      <th>Age</th>\n",
       "      <th>PTS_Predict_1</th>\n",
       "      <th>PTS_Predict_2</th>\n",
       "      <th>PTS_Predict_3</th>\n",
       "    </tr>\n",
       "  </thead>\n",
       "  <tbody>\n",
       "    <tr>\n",
       "      <th>5420</th>\n",
       "      <td>2005-06</td>\n",
       "      <td>81.0</td>\n",
       "      <td>102.0</td>\n",
       "      <td>Sidney Crosby</td>\n",
       "      <td>NaN</td>\n",
       "      <td>NaN</td>\n",
       "      <td>NaN</td>\n",
       "      <td>18.0</td>\n",
       "      <td>NaN</td>\n",
       "      <td>NaN</td>\n",
       "      <td>NaN</td>\n",
       "    </tr>\n",
       "    <tr>\n",
       "      <th>5421</th>\n",
       "      <td>2006-07</td>\n",
       "      <td>79.0</td>\n",
       "      <td>120.0</td>\n",
       "      <td>Sidney Crosby</td>\n",
       "      <td>1.260733</td>\n",
       "      <td>NaN</td>\n",
       "      <td>NaN</td>\n",
       "      <td>19.0</td>\n",
       "      <td>100.0</td>\n",
       "      <td>NaN</td>\n",
       "      <td>NaN</td>\n",
       "    </tr>\n",
       "    <tr>\n",
       "      <th>5422</th>\n",
       "      <td>2007-08</td>\n",
       "      <td>53.0</td>\n",
       "      <td>72.0</td>\n",
       "      <td>Sidney Crosby</td>\n",
       "      <td>1.345005</td>\n",
       "      <td>1.161697</td>\n",
       "      <td>NaN</td>\n",
       "      <td>20.0</td>\n",
       "      <td>71.0</td>\n",
       "      <td>62.0</td>\n",
       "      <td>NaN</td>\n",
       "    </tr>\n",
       "    <tr>\n",
       "      <th>5423</th>\n",
       "      <td>2008-09</td>\n",
       "      <td>77.0</td>\n",
       "      <td>103.0</td>\n",
       "      <td>Sidney Crosby</td>\n",
       "      <td>1.340203</td>\n",
       "      <td>1.256599</td>\n",
       "      <td>1.271685</td>\n",
       "      <td>21.0</td>\n",
       "      <td>103.0</td>\n",
       "      <td>97.0</td>\n",
       "      <td>98.0</td>\n",
       "    </tr>\n",
       "    <tr>\n",
       "      <th>5424</th>\n",
       "      <td>2009-10</td>\n",
       "      <td>81.0</td>\n",
       "      <td>109.0</td>\n",
       "      <td>Sidney Crosby</td>\n",
       "      <td>1.381964</td>\n",
       "      <td>1.246673</td>\n",
       "      <td>1.374489</td>\n",
       "      <td>22.0</td>\n",
       "      <td>112.0</td>\n",
       "      <td>101.0</td>\n",
       "      <td>111.0</td>\n",
       "    </tr>\n",
       "    <tr>\n",
       "      <th>5425</th>\n",
       "      <td>2010-11</td>\n",
       "      <td>41.0</td>\n",
       "      <td>66.0</td>\n",
       "      <td>Sidney Crosby</td>\n",
       "      <td>1.324251</td>\n",
       "      <td>1.440349</td>\n",
       "      <td>1.399006</td>\n",
       "      <td>23.0</td>\n",
       "      <td>54.0</td>\n",
       "      <td>59.0</td>\n",
       "      <td>57.0</td>\n",
       "    </tr>\n",
       "    <tr>\n",
       "      <th>5426</th>\n",
       "      <td>2011-12</td>\n",
       "      <td>22.0</td>\n",
       "      <td>37.0</td>\n",
       "      <td>Sidney Crosby</td>\n",
       "      <td>1.432071</td>\n",
       "      <td>1.384025</td>\n",
       "      <td>1.450086</td>\n",
       "      <td>24.0</td>\n",
       "      <td>32.0</td>\n",
       "      <td>30.0</td>\n",
       "      <td>32.0</td>\n",
       "    </tr>\n",
       "    <tr>\n",
       "      <th>5427</th>\n",
       "      <td>2012-13</td>\n",
       "      <td>36.0</td>\n",
       "      <td>56.0</td>\n",
       "      <td>Sidney Crosby</td>\n",
       "      <td>1.477455</td>\n",
       "      <td>1.348515</td>\n",
       "      <td>1.308170</td>\n",
       "      <td>25.0</td>\n",
       "      <td>53.0</td>\n",
       "      <td>49.0</td>\n",
       "      <td>47.0</td>\n",
       "    </tr>\n",
       "    <tr>\n",
       "      <th>5428</th>\n",
       "      <td>2013-14</td>\n",
       "      <td>80.0</td>\n",
       "      <td>104.0</td>\n",
       "      <td>Sidney Crosby</td>\n",
       "      <td>1.250582</td>\n",
       "      <td>1.248537</td>\n",
       "      <td>1.151145</td>\n",
       "      <td>26.0</td>\n",
       "      <td>100.0</td>\n",
       "      <td>100.0</td>\n",
       "      <td>92.0</td>\n",
       "    </tr>\n",
       "    <tr>\n",
       "      <th>5429</th>\n",
       "      <td>2014-15</td>\n",
       "      <td>77.0</td>\n",
       "      <td>84.0</td>\n",
       "      <td>Sidney Crosby</td>\n",
       "      <td>1.135197</td>\n",
       "      <td>1.120528</td>\n",
       "      <td>1.104619</td>\n",
       "      <td>27.0</td>\n",
       "      <td>87.0</td>\n",
       "      <td>86.0</td>\n",
       "      <td>85.0</td>\n",
       "    </tr>\n",
       "    <tr>\n",
       "      <th>5430</th>\n",
       "      <td>2015-16</td>\n",
       "      <td>80.0</td>\n",
       "      <td>85.0</td>\n",
       "      <td>Sidney Crosby</td>\n",
       "      <td>1.040388</td>\n",
       "      <td>1.123503</td>\n",
       "      <td>1.058617</td>\n",
       "      <td>28.0</td>\n",
       "      <td>83.0</td>\n",
       "      <td>90.0</td>\n",
       "      <td>85.0</td>\n",
       "    </tr>\n",
       "    <tr>\n",
       "      <th>5431</th>\n",
       "      <td>2016-17</td>\n",
       "      <td>75.0</td>\n",
       "      <td>89.0</td>\n",
       "      <td>Sidney Crosby</td>\n",
       "      <td>1.074947</td>\n",
       "      <td>1.026542</td>\n",
       "      <td>1.178293</td>\n",
       "      <td>29.0</td>\n",
       "      <td>81.0</td>\n",
       "      <td>77.0</td>\n",
       "      <td>88.0</td>\n",
       "    </tr>\n",
       "    <tr>\n",
       "      <th>5432</th>\n",
       "      <td>2017-18</td>\n",
       "      <td>82.0</td>\n",
       "      <td>89.0</td>\n",
       "      <td>Sidney Crosby</td>\n",
       "      <td>1.118113</td>\n",
       "      <td>1.038200</td>\n",
       "      <td>1.069676</td>\n",
       "      <td>30.0</td>\n",
       "      <td>92.0</td>\n",
       "      <td>85.0</td>\n",
       "      <td>88.0</td>\n",
       "    </tr>\n",
       "    <tr>\n",
       "      <th>5433</th>\n",
       "      <td>2018-19</td>\n",
       "      <td>79.0</td>\n",
       "      <td>100.0</td>\n",
       "      <td>Sidney Crosby</td>\n",
       "      <td>1.056608</td>\n",
       "      <td>1.216588</td>\n",
       "      <td>1.084372</td>\n",
       "      <td>31.0</td>\n",
       "      <td>83.0</td>\n",
       "      <td>96.0</td>\n",
       "      <td>86.0</td>\n",
       "    </tr>\n",
       "    <tr>\n",
       "      <th>5434</th>\n",
       "      <td>2019-20</td>\n",
       "      <td>41.0</td>\n",
       "      <td>47.0</td>\n",
       "      <td>Sidney Crosby</td>\n",
       "      <td>1.134691</td>\n",
       "      <td>1.035282</td>\n",
       "      <td>0.998918</td>\n",
       "      <td>32.0</td>\n",
       "      <td>47.0</td>\n",
       "      <td>42.0</td>\n",
       "      <td>41.0</td>\n",
       "    </tr>\n",
       "    <tr>\n",
       "      <th>36454</th>\n",
       "      <td>2020-21</td>\n",
       "      <td>NaN</td>\n",
       "      <td>NaN</td>\n",
       "      <td>Sidney Crosby</td>\n",
       "      <td>1.044750</td>\n",
       "      <td>1.164581</td>\n",
       "      <td>0.974549</td>\n",
       "      <td>33.0</td>\n",
       "      <td>86.0</td>\n",
       "      <td>95.0</td>\n",
       "      <td>80.0</td>\n",
       "    </tr>\n",
       "    <tr>\n",
       "      <th>41716</th>\n",
       "      <td>2021-22</td>\n",
       "      <td>NaN</td>\n",
       "      <td>NaN</td>\n",
       "      <td>Sidney Crosby</td>\n",
       "      <td>NaN</td>\n",
       "      <td>0.868672</td>\n",
       "      <td>1.003721</td>\n",
       "      <td>34.0</td>\n",
       "      <td>NaN</td>\n",
       "      <td>71.0</td>\n",
       "      <td>82.0</td>\n",
       "    </tr>\n",
       "    <tr>\n",
       "      <th>46662</th>\n",
       "      <td>2022-23</td>\n",
       "      <td>NaN</td>\n",
       "      <td>NaN</td>\n",
       "      <td>Sidney Crosby</td>\n",
       "      <td>NaN</td>\n",
       "      <td>NaN</td>\n",
       "      <td>0.716438</td>\n",
       "      <td>35.0</td>\n",
       "      <td>NaN</td>\n",
       "      <td>NaN</td>\n",
       "      <td>59.0</td>\n",
       "    </tr>\n",
       "  </tbody>\n",
       "</table>\n",
       "</div>"
      ],
      "text/plain": [
       "        Season    GP    PTS         Player  pts_per_game_predict_1  \\\n",
       "5420   2005-06  81.0  102.0  Sidney Crosby                     NaN   \n",
       "5421   2006-07  79.0  120.0  Sidney Crosby                1.260733   \n",
       "5422   2007-08  53.0   72.0  Sidney Crosby                1.345005   \n",
       "5423   2008-09  77.0  103.0  Sidney Crosby                1.340203   \n",
       "5424   2009-10  81.0  109.0  Sidney Crosby                1.381964   \n",
       "5425   2010-11  41.0   66.0  Sidney Crosby                1.324251   \n",
       "5426   2011-12  22.0   37.0  Sidney Crosby                1.432071   \n",
       "5427   2012-13  36.0   56.0  Sidney Crosby                1.477455   \n",
       "5428   2013-14  80.0  104.0  Sidney Crosby                1.250582   \n",
       "5429   2014-15  77.0   84.0  Sidney Crosby                1.135197   \n",
       "5430   2015-16  80.0   85.0  Sidney Crosby                1.040388   \n",
       "5431   2016-17  75.0   89.0  Sidney Crosby                1.074947   \n",
       "5432   2017-18  82.0   89.0  Sidney Crosby                1.118113   \n",
       "5433   2018-19  79.0  100.0  Sidney Crosby                1.056608   \n",
       "5434   2019-20  41.0   47.0  Sidney Crosby                1.134691   \n",
       "36454  2020-21   NaN    NaN  Sidney Crosby                1.044750   \n",
       "41716  2021-22   NaN    NaN  Sidney Crosby                     NaN   \n",
       "46662  2022-23   NaN    NaN  Sidney Crosby                     NaN   \n",
       "\n",
       "       pts_per_game_predict_2  pts_per_game_predict_3   Age  PTS_Predict_1  \\\n",
       "5420                      NaN                     NaN  18.0            NaN   \n",
       "5421                      NaN                     NaN  19.0          100.0   \n",
       "5422                 1.161697                     NaN  20.0           71.0   \n",
       "5423                 1.256599                1.271685  21.0          103.0   \n",
       "5424                 1.246673                1.374489  22.0          112.0   \n",
       "5425                 1.440349                1.399006  23.0           54.0   \n",
       "5426                 1.384025                1.450086  24.0           32.0   \n",
       "5427                 1.348515                1.308170  25.0           53.0   \n",
       "5428                 1.248537                1.151145  26.0          100.0   \n",
       "5429                 1.120528                1.104619  27.0           87.0   \n",
       "5430                 1.123503                1.058617  28.0           83.0   \n",
       "5431                 1.026542                1.178293  29.0           81.0   \n",
       "5432                 1.038200                1.069676  30.0           92.0   \n",
       "5433                 1.216588                1.084372  31.0           83.0   \n",
       "5434                 1.035282                0.998918  32.0           47.0   \n",
       "36454                1.164581                0.974549  33.0           86.0   \n",
       "41716                0.868672                1.003721  34.0            NaN   \n",
       "46662                     NaN                0.716438  35.0            NaN   \n",
       "\n",
       "       PTS_Predict_2  PTS_Predict_3  \n",
       "5420             NaN            NaN  \n",
       "5421             NaN            NaN  \n",
       "5422            62.0            NaN  \n",
       "5423            97.0           98.0  \n",
       "5424           101.0          111.0  \n",
       "5425            59.0           57.0  \n",
       "5426            30.0           32.0  \n",
       "5427            49.0           47.0  \n",
       "5428           100.0           92.0  \n",
       "5429            86.0           85.0  \n",
       "5430            90.0           85.0  \n",
       "5431            77.0           88.0  \n",
       "5432            85.0           88.0  \n",
       "5433            96.0           86.0  \n",
       "5434            42.0           41.0  \n",
       "36454           95.0           80.0  \n",
       "41716           71.0           82.0  \n",
       "46662            NaN           59.0  "
      ]
     },
     "execution_count": 81,
     "metadata": {},
     "output_type": "execute_result"
    }
   ],
   "source": [
    "df[df.Player == \"Sidney Crosby\"]"
   ]
  },
  {
   "cell_type": "code",
   "execution_count": 114,
   "metadata": {},
   "outputs": [],
   "source": [
    "df.to_csv('NHL_Player_Points_Predictions.csv')"
   ]
  },
  {
   "cell_type": "code",
   "execution_count": 110,
   "metadata": {},
   "outputs": [],
   "source": [
    "tst_df = df[df.Season==\"2005-06\"]"
   ]
  },
  {
   "cell_type": "code",
   "execution_count": 113,
   "metadata": {},
   "outputs": [
    {
     "data": {
      "text/html": [
       "<div>\n",
       "<style scoped>\n",
       "    .dataframe tbody tr th:only-of-type {\n",
       "        vertical-align: middle;\n",
       "    }\n",
       "\n",
       "    .dataframe tbody tr th {\n",
       "        vertical-align: top;\n",
       "    }\n",
       "\n",
       "    .dataframe thead th {\n",
       "        text-align: right;\n",
       "    }\n",
       "</style>\n",
       "<table border=\"1\" class=\"dataframe\">\n",
       "  <thead>\n",
       "    <tr style=\"text-align: right;\">\n",
       "      <th></th>\n",
       "      <th>Season</th>\n",
       "      <th>GP</th>\n",
       "      <th>PTS</th>\n",
       "      <th>Player</th>\n",
       "      <th>pts_per_game_predict_1</th>\n",
       "      <th>pts_per_game_predict_2</th>\n",
       "      <th>pts_per_game_predict_3</th>\n",
       "      <th>Age</th>\n",
       "      <th>PTS_Predict_1</th>\n",
       "      <th>PTS_Predict_2</th>\n",
       "      <th>PTS_Predict_3</th>\n",
       "    </tr>\n",
       "  </thead>\n",
       "  <tbody>\n",
       "    <tr>\n",
       "      <th>23706</th>\n",
       "      <td>2005-06</td>\n",
       "      <td>80.0</td>\n",
       "      <td>90.0</td>\n",
       "      <td>Teemu Selanne</td>\n",
       "      <td>NaN</td>\n",
       "      <td>0.711149</td>\n",
       "      <td>0.853805</td>\n",
       "      <td>35.0</td>\n",
       "      <td>NaN</td>\n",
       "      <td>57.0</td>\n",
       "      <td>68.0</td>\n",
       "    </tr>\n",
       "  </tbody>\n",
       "</table>\n",
       "</div>"
      ],
      "text/plain": [
       "        Season    GP   PTS         Player  pts_per_game_predict_1  \\\n",
       "23706  2005-06  80.0  90.0  Teemu Selanne                     NaN   \n",
       "\n",
       "       pts_per_game_predict_2  pts_per_game_predict_3   Age  PTS_Predict_1  \\\n",
       "23706                0.711149                0.853805  35.0            NaN   \n",
       "\n",
       "       PTS_Predict_2  PTS_Predict_3  \n",
       "23706           57.0           68.0  "
      ]
     },
     "execution_count": 113,
     "metadata": {},
     "output_type": "execute_result"
    }
   ],
   "source": [
    "tst_df[tst_df.Player == \"Teemu Selanne\"]"
   ]
  },
  {
   "cell_type": "code",
   "execution_count": 112,
   "metadata": {},
   "outputs": [],
   "source": [
    "for player in tst_df.Player:\n",
    "    if len(tst_df[tst_df.Player == player])>1:\n",
    "        print(player)"
   ]
  },
  {
   "cell_type": "code",
   "execution_count": null,
   "metadata": {},
   "outputs": [],
   "source": []
  }
 ],
 "metadata": {
  "kernelspec": {
   "display_name": "Python 3",
   "language": "python",
   "name": "python3"
  },
  "language_info": {
   "codemirror_mode": {
    "name": "ipython",
    "version": 3
   },
   "file_extension": ".py",
   "mimetype": "text/x-python",
   "name": "python",
   "nbconvert_exporter": "python",
   "pygments_lexer": "ipython3",
   "version": "3.7.7"
  }
 },
 "nbformat": 4,
 "nbformat_minor": 4
}
