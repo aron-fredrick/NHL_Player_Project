{
 "cells": [
  {
   "cell_type": "code",
   "execution_count": 247,
   "metadata": {},
   "outputs": [],
   "source": [
    "from bs4 import BeautifulSoup\n",
    "import pandas as pd\n",
    "import requests\n",
    "import string"
   ]
  },
  {
   "cell_type": "code",
   "execution_count": 249,
   "metadata": {},
   "outputs": [
    {
     "name": "stdout",
     "output_type": "stream",
     "text": [
      "059/60 of the letter Z completed, currently on: Andrei Zyuzin                                            "
     ]
    }
   ],
   "source": [
    "df = pd.DataFrame()\n",
    "site = 'https://www.hockey-reference.com'\n",
    "prev_player = ''\n",
    "for letter in string.ascii_lowercase:\n",
    "    count = 0\n",
    "    url = requests.get(site+'/players/'+letter+'/').text\n",
    "    soup = BeautifulSoup(url,'lxml')\n",
    "    player_list = soup.find_all('p', class_='nhl')\n",
    "\n",
    "    for count, player in enumerate(player_list):\n",
    "        # Remove goalies and players from before 1980\n",
    "        if int(player.text.split('(')[-1][0:4])<1980 or player.text[-2] == 'G':\n",
    "            continue\n",
    "        # If players have the same name, differentiate them\n",
    "        if player.a.text == prev_player:\n",
    "            if same_name_flag == True:\n",
    "                same_name_count += 1\n",
    "            same_name_flag = True\n",
    "        else:\n",
    "            same_name_flag = False\n",
    "            same_name_count = 0\n",
    "        player_name = player.a.text+same_name_flag*str(same_name_count)\n",
    "        prev_player = player.a.text\n",
    "        \n",
    "        print(f'\\r{count:03d}/{len(player_list)} of the letter {letter.upper()} completed, currently on: {player_name}                           ',end='')\n",
    "        \n",
    "        # Access player webpage\n",
    "        player_url = site+player.a['href']\n",
    "        player_url = requests.get(player_url).text\n",
    "        player_page = BeautifulSoup(player_url,'lxml')   \n",
    "        player_year_log = player_page.find('li',class_ = 'full hasmore')\n",
    "        \n",
    "        # Loop over all years in career\n",
    "        for year in player_year_log.find_all('li'):\n",
    "            if not year.text == 'Career Playoffs':\n",
    "                game_log_url = site + year.a['href']\n",
    "                game_log_url = requests.get(game_log_url).text\n",
    "                # Get table of games for given year\n",
    "                try:\n",
    "                    df_list = pd.read_html(game_log_url, skiprows = 1, header = 0)\n",
    "                except:\n",
    "                    continue\n",
    "                # Clean results\n",
    "                tmp_df = df_list[0]\n",
    "                tmp_df.rename(columns = {'Unnamed: 5':'Location','Unnamed: 7':'Result', 'G.1':'Goals','A':'Assists'}, inplace = True)\n",
    "                tmp_df.drop(columns = ['+/-', 'EV', 'PP', 'SH', 'GW', 'EV.1', 'PP.1','SH.1', 'S', 'S%', 'SHFT', 'TOI',\n",
    "                                   'HIT', 'BLK', 'FOW', 'FOL', 'FO%'], inplace=True)\n",
    "                tmp_df.drop(tmp_df.loc[tmp_df['Rk']=='Rk'].index, inplace=True)\n",
    "                tmp_df['Location'] = tmp_df.Location.apply(lambda x: 'A' if x == '@' else 'H')\n",
    "                tmp_df['Age'] = tmp_df.Age.apply(lambda x: x[0:2])\n",
    "                tmp_df['Player'] = player_name\n",
    "                tmp_df[['G', 'Age', 'Goals', 'Assists', 'PTS', 'PIM']] = tmp_df[['G', 'Age', 'Goals', 'Assists', 'PTS', 'PIM']].apply(pd.to_numeric)\n",
    "                \n",
    "                # Append to df\n",
    "                # TODO: Check if it would be better to just directly append to csv\n",
    "                if df.empty:\n",
    "                    df = tmp_df\n",
    "                else:\n",
    "                    df = df.append(tmp_df, ignore_index=True)\n",
    "                    \n",
    "print(f'\\rCompleted                                                                                   ',end='')"
   ]
  },
  {
   "cell_type": "code",
   "execution_count": 250,
   "metadata": {},
   "outputs": [],
   "source": [
    "df.to_csv('NHL_game_log_all.csv',index=False)"
   ]
  }
 ],
 "metadata": {
  "kernelspec": {
   "display_name": "Python 3",
   "language": "python",
   "name": "python3"
  },
  "language_info": {
   "codemirror_mode": {
    "name": "ipython",
    "version": 3
   },
   "file_extension": ".py",
   "mimetype": "text/x-python",
   "name": "python",
   "nbconvert_exporter": "python",
   "pygments_lexer": "ipython3",
   "version": "3.7.7"
  }
 },
 "nbformat": 4,
 "nbformat_minor": 2
}
